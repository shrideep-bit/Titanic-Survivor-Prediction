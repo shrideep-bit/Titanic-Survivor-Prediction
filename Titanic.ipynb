{
 "cells": [
  {
   "cell_type": "code",
   "execution_count": 1,
   "metadata": {},
   "outputs": [
    {
     "name": "stdout",
     "output_type": "stream",
     "text": [
      "Completed\n"
     ]
    }
   ],
   "source": [
    "# import necessary libraries\n",
    "import pandas as pd\n",
    "import numpy as np\n",
    "import xgboost as xgb\n",
    "print(\"Completed\")"
   ]
  },
  {
   "cell_type": "code",
   "execution_count": 2,
   "metadata": {},
   "outputs": [
    {
     "name": "stdout",
     "output_type": "stream",
     "text": [
      "Completed\n"
     ]
    }
   ],
   "source": [
    "# specify file path and read the necessary files (only done for csv files here)\n",
    "problem_file_path= open(\"/Users/S101/Desktop/Kaggle/Titanic/train.csv\")\n",
    "problem_data=pd.read_csv(problem_file_path)\n",
    "print(\"Completed\")"
   ]
  },
  {
   "cell_type": "code",
   "execution_count": 3,
   "metadata": {},
   "outputs": [
    {
     "name": "stdout",
     "output_type": "stream",
     "text": [
      "   PassengerId  Survived  Pclass  \\\n",
      "0            1         0       3   \n",
      "1            2         1       1   \n",
      "2            3         1       3   \n",
      "3            4         1       1   \n",
      "4            5         0       3   \n",
      "5            6         0       3   \n",
      "6            7         0       1   \n",
      "7            8         0       3   \n",
      "8            9         1       3   \n",
      "9           10         1       2   \n",
      "\n",
      "                                                Name  Sex   Age  SibSp  Parch  \\\n",
      "0                            Braund, Mr. Owen Harris    1  22.0      1      0   \n",
      "1  Cumings, Mrs. John Bradley (Florence Briggs Th...    0  38.0      1      0   \n",
      "2                             Heikkinen, Miss. Laina    0  26.0      0      0   \n",
      "3       Futrelle, Mrs. Jacques Heath (Lily May Peel)    0  35.0      1      0   \n",
      "4                           Allen, Mr. William Henry    1  35.0      0      0   \n",
      "5                                   Moran, Mr. James    1   NaN      0      0   \n",
      "6                            McCarthy, Mr. Timothy J    1  54.0      0      0   \n",
      "7                     Palsson, Master. Gosta Leonard    1   2.0      3      1   \n",
      "8  Johnson, Mrs. Oscar W (Elisabeth Vilhelmina Berg)    0  27.0      0      2   \n",
      "9                Nasser, Mrs. Nicholas (Adele Achem)    0  14.0      1      0   \n",
      "\n",
      "             Ticket     Fare Cabin  Embarked  \n",
      "0         A/5 21171   7.2500   NaN       0.0  \n",
      "1          PC 17599  71.2833   C85       1.0  \n",
      "2  STON/O2. 3101282   7.9250   NaN       0.0  \n",
      "3            113803  53.1000  C123       0.0  \n",
      "4            373450   8.0500   NaN       0.0  \n",
      "5            330877   8.4583   NaN       2.0  \n",
      "6             17463  51.8625   E46       0.0  \n",
      "7            349909  21.0750   NaN       0.0  \n",
      "8            347742  11.1333   NaN       0.0  \n",
      "9            237736  30.0708   NaN       1.0  \n",
      "Completed\n"
     ]
    }
   ],
   "source": [
    "# inspect data\n",
    "problem_data.columns\n",
    "print(problem_data.head(10))\n",
    "print(\"Completed\")"
   ]
  },
  {
   "cell_type": "code",
   "execution_count": 4,
   "metadata": {},
   "outputs": [],
   "source": [
    "# prediction target\n",
    "y=problem_data.Survived"
   ]
  },
  {
   "cell_type": "code",
   "execution_count": 5,
   "metadata": {},
   "outputs": [
    {
     "name": "stdout",
     "output_type": "stream",
     "text": [
      "Done\n",
      "Done\n",
      "Done\n",
      "Done\n",
      "Done\n",
      "Done\n"
     ]
    }
   ],
   "source": [
    "# handle missing data (There are other ways to do so)\n",
    "mean_age=problem_data[\"Age\"].mean()\n",
    "problem_data[\"Age\"].replace(np.nan,mean_age,inplace=True)\n",
    "print(\"Done\")\n",
    "mode_Pclass=problem_data[\"Pclass\"].mode()\n",
    "problem_data[\"Pclass\"].replace(np.nan,mode_Pclass, inplace=True)\n",
    "print(\"Done\")\n",
    "mode_Sex=problem_data[\"Sex\"].mode()\n",
    "problem_data[\"Sex\"].replace(np.nan,mode_Sex, inplace=True)\n",
    "print(\"Done\")\n",
    "mode_SibSp=problem_data[\"SibSp\"].mode()\n",
    "problem_data[\"SibSp\"].replace(np.nan,mode_SibSp, inplace=True)\n",
    "print(\"Done\")\n",
    "mode_Parch=problem_data[\"Parch\"].mode()\n",
    "problem_data[\"Parch\"].replace(np.nan,mode_Parch, inplace=True)\n",
    "print(\"Done\")\n",
    "problem_data['Embarked'].fillna(problem_data['Embarked'].mode()[0], inplace=True)\n",
    "# problem_data[[\"Embarked\"]] = problem_data[[\"Embarked\"]].astype(\"int\")\n",
    "mean_Fare=problem_data[\"Fare\"].mean()\n",
    "problem_data[\"Fare\"].replace(np.nan,mean_Fare,inplace=True)\n",
    "print(\"Done\")"
   ]
  },
  {
   "cell_type": "code",
   "execution_count": 6,
   "metadata": {},
   "outputs": [],
   "source": [
    "#choose features\n",
    "problem_features=['Pclass','Sex','Age','SibSp','Parch','Embarked','Fare']\n",
    "X=problem_data[problem_features]"
   ]
  },
  {
   "cell_type": "code",
   "execution_count": 7,
   "metadata": {},
   "outputs": [
    {
     "data": {
      "text/plain": [
       "RandomForestClassifier(bootstrap=True, ccp_alpha=0.0, class_weight=None,\n",
       "                       criterion='gini', max_depth=None, max_features='auto',\n",
       "                       max_leaf_nodes=None, max_samples=None,\n",
       "                       min_impurity_decrease=0.0, min_impurity_split=None,\n",
       "                       min_samples_leaf=1, min_samples_split=2,\n",
       "                       min_weight_fraction_leaf=0.0, n_estimators=100,\n",
       "                       n_jobs=None, oob_score=False, random_state=None,\n",
       "                       verbose=0, warm_start=False)"
      ]
     },
     "execution_count": 7,
     "metadata": {},
     "output_type": "execute_result"
    }
   ],
   "source": [
    "# choose model for learning\n",
    "from sklearn.ensemble import RandomForestClassifier\n",
    "problem_model = RandomForestClassifier()\n",
    "#problem_model=xgb.XGBRegressor()\n",
    "problem_model.fit(X,y)"
   ]
  },
  {
   "cell_type": "code",
   "execution_count": 8,
   "metadata": {},
   "outputs": [
    {
     "data": {
      "text/plain": [
       "0.9820426487093153"
      ]
     },
     "execution_count": 8,
     "metadata": {},
     "output_type": "execute_result"
    }
   ],
   "source": [
    "#Check the model on training set\n",
    "from sklearn.metrics import accuracy_score\n",
    "accuracy_score(y, problem_model.predict(X))"
   ]
  },
  {
   "cell_type": "code",
   "execution_count": 10,
   "metadata": {},
   "outputs": [],
   "source": [
    "#prediction file\n",
    "predict_file_path= open(\"/Users/S101/Desktop/Kaggle/Titanic/test.csv\")\n",
    "predict_data=pd.read_csv(predict_file_path)\n",
    "#test_file_path= open(\"/Users/S101/Desktop/gender_submission.csv\")\n",
    "#test_data=pd.read_csv(test_file_path)"
   ]
  },
  {
   "cell_type": "code",
   "execution_count": 11,
   "metadata": {},
   "outputs": [
    {
     "name": "stdout",
     "output_type": "stream",
     "text": [
      "Done\n",
      "Done\n",
      "Done\n",
      "Done\n",
      "Done\n",
      "Done\n"
     ]
    }
   ],
   "source": [
    "#handle missing data in prediction file\n",
    "mean_age=predict_data[\"Age\"].mean()\n",
    "predict_data[\"Age\"].replace(np.nan,mean_age,inplace=True)\n",
    "print(\"Done\")\n",
    "mode_Pclass=predict_data[\"Pclass\"].mode()\n",
    "predict_data[\"Pclass\"].replace(np.nan,mode_Pclass, inplace=True)\n",
    "print(\"Done\")\n",
    "mode_Sex=predict_data[\"Sex\"].mode()\n",
    "predict_data[\"Sex\"].replace(np.nan,mode_Sex, inplace=True)\n",
    "print(\"Done\")\n",
    "mode_SibSp=predict_data[\"SibSp\"].mode()\n",
    "predict_data[\"SibSp\"].replace(np.nan,mode_SibSp, inplace=True)\n",
    "print(\"Done\")\n",
    "mode_Parch=predict_data[\"Parch\"].mode()\n",
    "predict_data[\"Parch\"].replace(np.nan,mode_Parch, inplace=True)\n",
    "print(\"Done\")\n",
    "predict_data['Embarked'].fillna(predict_data['Embarked'].mode()[0], inplace=True)\n",
    "mean_Fare=predict_data[\"Fare\"].mean()\n",
    "predict_data[\"Fare\"].replace(np.nan,mean_Fare,inplace=True)\n",
    "print(\"Done\")"
   ]
  },
  {
   "cell_type": "code",
   "execution_count": 12,
   "metadata": {},
   "outputs": [],
   "source": [
    "# choose prediction file features\n",
    "predict_features=['Pclass','Sex','Age','SibSp','Parch','Embarked','Fare']\n",
    "X_test=predict_data[predict_features]\n",
    "#y_test=test_data.Survived"
   ]
  },
  {
   "cell_type": "code",
   "execution_count": 13,
   "metadata": {
    "scrolled": true
   },
   "outputs": [
    {
     "name": "stdout",
     "output_type": "stream",
     "text": [
      "[0 0 0 1 0 0 0 0 1 0 0 0 1 0 1 1 0 1 0 0 1 1 1 1 1 0 1 1 1 0 0 0 1 0 1 1 0\n",
      " 0 0 1 0 1 0 1 1 0 0 0 1 1 1 0 1 1 0 0 0 0 0 1 0 0 0 1 1 1 1 0 0 1 1 0 0 0\n",
      " 1 0 0 1 0 1 1 0 0 0 0 0 1 0 0 1 0 0 1 0 0 0 1 0 0 0 1 0 0 0 1 0 0 0 0 0 0\n",
      " 0 1 1 1 0 0 1 0 1 1 0 1 0 0 1 0 1 0 0 1 0 0 0 0 0 0 0 0 0 0 1 0 0 1 0 0 0\n",
      " 1 0 1 0 0 1 0 0 1 1 1 1 0 1 1 0 0 0 0 0 1 0 0 0 0 0 0 1 1 1 1 1 0 0 1 0 1\n",
      " 0 1 0 0 0 0 0 1 0 1 0 1 0 0 0 0 1 0 1 0 0 0 0 1 0 0 0 0 0 1 0 0 0 1 0 1 0\n",
      " 1 1 1 0 0 0 0 0 0 1 0 0 1 0 0 1 1 1 1 1 0 0 0 0 1 0 1 0 1 0 0 0 0 0 0 0 1\n",
      " 0 0 0 1 1 0 0 0 0 0 0 0 0 1 1 0 1 0 0 0 0 0 1 0 0 1 0 0 0 0 0 0 0 0 0 0 0\n",
      " 1 0 0 0 0 0 0 0 0 1 1 1 0 0 0 1 0 0 1 1 0 0 0 0 0 0 0 1 1 0 1 0 0 0 1 1 0\n",
      " 0 0 0 1 0 0 0 0 0 0 1 0 1 0 0 0 1 1 0 0 0 1 0 1 0 0 1 0 1 1 1 1 0 0 0 1 1\n",
      " 0 1 0 0 1 1 0 0 0 0 0 0 1 0 0 1 0 0 0 0 0 1 0 0 0 1 0 1 0 0 1 0 1 0 0 1 0\n",
      " 0 0 1 0 1 0 0 1 0 0 1]\n",
      "418\n"
     ]
    }
   ],
   "source": [
    "#prediction\n",
    "y_predict=problem_model.predict(X_test)\n",
    "print(y_predict)\n",
    "print(len(y_predict))"
   ]
  },
  {
   "cell_type": "code",
   "execution_count": null,
   "metadata": {},
   "outputs": [],
   "source": []
  }
 ],
 "metadata": {
  "kernelspec": {
   "display_name": "Python 3",
   "language": "python",
   "name": "python3"
  },
  "language_info": {
   "codemirror_mode": {
    "name": "ipython",
    "version": 3
   },
   "file_extension": ".py",
   "mimetype": "text/x-python",
   "name": "python",
   "nbconvert_exporter": "python",
   "pygments_lexer": "ipython3",
   "version": "3.7.4"
  }
 },
 "nbformat": 4,
 "nbformat_minor": 4
}
